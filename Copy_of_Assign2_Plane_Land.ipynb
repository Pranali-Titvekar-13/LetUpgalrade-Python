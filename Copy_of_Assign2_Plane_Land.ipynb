{
  "nbformat": 4,
  "nbformat_minor": 0,
  "metadata": {
    "colab": {
      "name": "Copy of Assign2_Plane-Land.ipynb",
      "provenance": [],
      "collapsed_sections": [],
      "authorship_tag": "ABX9TyN0zkUNf8wF0S0So6BfUlWl",
      "include_colab_link": true
    },
    "kernelspec": {
      "name": "python3",
      "display_name": "Python 3"
    }
  },
  "cells": [
    {
      "cell_type": "markdown",
      "metadata": {
        "id": "view-in-github",
        "colab_type": "text"
      },
      "source": [
        "<a href=\"https://colab.research.google.com/github/Pranali-Titvekar-13/LetUpgalrade-Python/blob/master/Copy_of_Assign2_Plane_Land.ipynb\" target=\"_parent\"><img src=\"https://colab.research.google.com/assets/colab-badge.svg\" alt=\"Open In Colab\"/></a>"
      ]
    },
    {
      "cell_type": "code",
      "metadata": {
        "id": "2IIn0bZ4_2B4",
        "colab_type": "code",
        "colab": {}
      },
      "source": [
        "#Landing a plane at accurate distance"
      ],
      "execution_count": null,
      "outputs": []
    },
    {
      "cell_type": "code",
      "metadata": {
        "id": "a7zAas07AIl0",
        "colab_type": "code",
        "colab": {
          "base_uri": "https://localhost:8080/",
          "height": 51
        },
        "outputId": "7f09aaa0-6ae2-4458-bbc0-c8179727ff01"
      },
      "source": [
        "Dist=input(\"Enter Distance - \")\n",
        "Dist=int(Dist)\n",
        "if Dist<=1000:\n",
        "     print (\"Safe to land\")\n",
        "elif Dist>1000 and Dist<=5000:\n",
        "    print (\"Please bring down to 1000ft\")\n",
        "else:\n",
        "    print (\"Go around & Try later\")"
      ],
      "execution_count": null,
      "outputs": [
        {
          "output_type": "stream",
          "text": [
            "Enter Distance - 5001\n",
            "Go around & Try later\n"
          ],
          "name": "stdout"
        }
      ]
    }
  ]
}