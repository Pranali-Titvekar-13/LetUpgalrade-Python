{
  "nbformat": 4,
  "nbformat_minor": 0,
  "metadata": {
    "colab": {
      "name": "Assignment 1.ipynb",
      "provenance": [],
      "collapsed_sections": [],
      "authorship_tag": "ABX9TyN02M4x8OvEL33f0lAfkr3f",
      "include_colab_link": true
    },
    "kernelspec": {
      "name": "python3",
      "display_name": "Python 3"
    }
  },
  "cells": [
    {
      "cell_type": "markdown",
      "metadata": {
        "id": "view-in-github",
        "colab_type": "text"
      },
      "source": [
        "<a href=\"https://colab.research.google.com/github/Pranali-Titvekar-13/LetUpgalrade-Python/blob/master/Assignment_1.ipynb\" target=\"_parent\"><img src=\"https://colab.research.google.com/assets/colab-badge.svg\" alt=\"Open In Colab\"/></a>"
      ]
    },
    {
      "cell_type": "code",
      "metadata": {
        "id": "pgX9G5K0e-JF",
        "colab_type": "code",
        "colab": {}
      },
      "source": [
        "#List Methods"
      ],
      "execution_count": 1,
      "outputs": []
    },
    {
      "cell_type": "code",
      "metadata": {
        "id": "p0iGFvPufVmu",
        "colab_type": "code",
        "colab": {
          "base_uri": "https://localhost:8080/",
          "height": 34
        },
        "outputId": "ea258bd1-38e3-4d33-e3b5-9b70824720f1"
      },
      "source": [
        "lst =[\"PC\", 5, 72.16]\n",
        " \n",
        "lst.append(\"BE\")         #adds item to the end of the list\n",
        "lst"
      ],
      "execution_count": 6,
      "outputs": [
        {
          "output_type": "execute_result",
          "data": {
            "text/plain": [
              "['PC', 5, 72.16, 'BE']"
            ]
          },
          "metadata": {
            "tags": []
          },
          "execution_count": 6
        }
      ]
    },
    {
      "cell_type": "code",
      "metadata": {
        "id": "WRJ-_RxhgmHv",
        "colab_type": "code",
        "colab": {
          "base_uri": "https://localhost:8080/",
          "height": 34
        },
        "outputId": "fc1f00ae-a90d-4e0c-c911-74520b6affe4"
      },
      "source": [
        "lst.reverse()  #reverse the elements of the list in place\n",
        "lst"
      ],
      "execution_count": 9,
      "outputs": [
        {
          "output_type": "execute_result",
          "data": {
            "text/plain": [
              "['BE', 72.16, 5, 'PC']"
            ]
          },
          "metadata": {
            "tags": []
          },
          "execution_count": 9
        }
      ]
    },
    {
      "cell_type": "code",
      "metadata": {
        "id": "bHXtDC_RhWXU",
        "colab_type": "code",
        "colab": {
          "base_uri": "https://localhost:8080/",
          "height": 85
        },
        "outputId": "191a56a2-8c17-479d-8e2b-8760b7f07fa6"
      },
      "source": [
        "lst.insert(0,5) # insert the element at given position in list\n",
        "print(lst)\n",
        "print(lst.count(5))  # returns no.of times element appear in the list\n",
        "print(lst.count(72.26))\n",
        "print(lst.count(\"PC\"))"
      ],
      "execution_count": 21,
      "outputs": [
        {
          "output_type": "stream",
          "text": [
            "[5, 'BE', 72.16, 5, 'PC']\n",
            "2\n",
            "0\n",
            "1\n"
          ],
          "name": "stdout"
        }
      ]
    },
    {
      "cell_type": "code",
      "metadata": {
        "id": "huqQPWqujtvs",
        "colab_type": "code",
        "colab": {
          "base_uri": "https://localhost:8080/",
          "height": 34
        },
        "outputId": "b4ccfc1f-3943-4d9f-aded-a244ce8dfb21"
      },
      "source": [
        "lst.remove(5)\n",
        "lst"
      ],
      "execution_count": 22,
      "outputs": [
        {
          "output_type": "execute_result",
          "data": {
            "text/plain": [
              "['BE', 72.16, 5, 'PC']"
            ]
          },
          "metadata": {
            "tags": []
          },
          "execution_count": 22
        }
      ]
    },
    {
      "cell_type": "code",
      "metadata": {
        "id": "_ttWp1elj2jo",
        "colab_type": "code",
        "colab": {}
      },
      "source": [
        "# Dictionaries"
      ],
      "execution_count": 24,
      "outputs": []
    },
    {
      "cell_type": "code",
      "metadata": {
        "id": "O3XG6fFflwrJ",
        "colab_type": "code",
        "colab": {
          "base_uri": "https://localhost:8080/",
          "height": 34
        },
        "outputId": "6e09d055-7bdb-4523-9ff2-f73825913436"
      },
      "source": [
        "dit={\"nm\":\"PC\", \"rn\":5, \"mks\":65.17}\n",
        "dit"
      ],
      "execution_count": 25,
      "outputs": [
        {
          "output_type": "execute_result",
          "data": {
            "text/plain": [
              "{'mks': 65.17, 'nm': 'PC', 'rn': 5}"
            ]
          },
          "metadata": {
            "tags": []
          },
          "execution_count": 25
        }
      ]
    },
    {
      "cell_type": "code",
      "metadata": {
        "id": "i0gXFrgamacB",
        "colab_type": "code",
        "colab": {
          "base_uri": "https://localhost:8080/",
          "height": 54
        },
        "outputId": "286ea179-6fa2-404d-b177-18e2f955e37a"
      },
      "source": [
        "dit.items() #returns key:value pair"
      ],
      "execution_count": 30,
      "outputs": [
        {
          "output_type": "execute_result",
          "data": {
            "text/plain": [
              "dict_items([('nm', 'PC'), ('rn', 5), ('mks', 65.17)])"
            ]
          },
          "metadata": {
            "tags": []
          },
          "execution_count": 30
        }
      ]
    },
    {
      "cell_type": "code",
      "metadata": {
        "id": "NLc_PVKXnElT",
        "colab_type": "code",
        "colab": {
          "base_uri": "https://localhost:8080/",
          "height": 51
        },
        "outputId": "8f13c60b-9579-453c-f4a4-90420c9a789b"
      },
      "source": [
        " print (\" Keys in dictionary -   \")\n",
        "dit.keys()    #returns keys from dict"
      ],
      "execution_count": 32,
      "outputs": [
        {
          "output_type": "stream",
          "text": [
            " Keys in dictionary -   \n"
          ],
          "name": "stdout"
        },
        {
          "output_type": "execute_result",
          "data": {
            "text/plain": [
              "dict_keys(['nm', 'rn', 'mks'])"
            ]
          },
          "metadata": {
            "tags": []
          },
          "execution_count": 32
        }
      ]
    },
    {
      "cell_type": "code",
      "metadata": {
        "id": "tvhu1kXInRmf",
        "colab_type": "code",
        "colab": {
          "base_uri": "https://localhost:8080/",
          "height": 34
        },
        "outputId": "52989d24-f364-4fbe-c101-011d45060722"
      },
      "source": [
        "d1={\"rn\":6} \n",
        "d2={\"strm\":\"BE\"}\n",
        "dit.update(d1)  #adds or updates element with given key\n",
        "dit.update(d2)\n",
        "dit"
      ],
      "execution_count": 36,
      "outputs": [
        {
          "output_type": "execute_result",
          "data": {
            "text/plain": [
              "{'mks': 65.17, 'nm': 'PC', 'rn': 6, 'strm': 'BE'}"
            ]
          },
          "metadata": {
            "tags": []
          },
          "execution_count": 36
        }
      ]
    },
    {
      "cell_type": "code",
      "metadata": {
        "id": "UZRGltXHov8U",
        "colab_type": "code",
        "colab": {
          "base_uri": "https://localhost:8080/",
          "height": 34
        },
        "outputId": "632a3783-e680-4eb8-c22b-d8bfa5151750"
      },
      "source": [
        "dit.pop(\"strm\") #pops elemen\n",
        "dit"
      ],
      "execution_count": 51,
      "outputs": [
        {
          "output_type": "execute_result",
          "data": {
            "text/plain": [
              "{'mks': 65.17, 'nm': 'PC', 'rn': 6}"
            ]
          },
          "metadata": {
            "tags": []
          },
          "execution_count": 51
        }
      ]
    },
    {
      "cell_type": "code",
      "metadata": {
        "id": "pzo7QbJNrub3",
        "colab_type": "code",
        "colab": {
          "base_uri": "https://localhost:8080/",
          "height": 35
        },
        "outputId": "13dd3c80-591f-467f-e95d-302aeec535ee"
      },
      "source": [
        "dit.get(\"nm\") #returns value of given key"
      ],
      "execution_count": 54,
      "outputs": [
        {
          "output_type": "execute_result",
          "data": {
            "application/vnd.google.colaboratory.intrinsic+json": {
              "type": "string"
            },
            "text/plain": [
              "'PC'"
            ]
          },
          "metadata": {
            "tags": []
          },
          "execution_count": 54
        }
      ]
    },
    {
      "cell_type": "code",
      "metadata": {
        "id": "qA6f1owzsN_r",
        "colab_type": "code",
        "colab": {}
      },
      "source": [
        "#Sets"
      ],
      "execution_count": null,
      "outputs": []
    },
    {
      "cell_type": "code",
      "metadata": {
        "id": "cSpPwrTNsWNx",
        "colab_type": "code",
        "colab": {
          "base_uri": "https://localhost:8080/",
          "height": 34
        },
        "outputId": "53a76f06-dcea-4360-c8b5-1dc5b6bc406b"
      },
      "source": [
        "St={\"apple\",\"banana\",\"kivi\"}\n",
        "St1={\"orange\",\"pineapple\",\"kivi\"}\n",
        "St.union(St1) #returns set of all elements from both sets by removing duplicate"
      ],
      "execution_count": 67,
      "outputs": [
        {
          "output_type": "execute_result",
          "data": {
            "text/plain": [
              "{'apple', 'banana', 'kivi', 'orange', 'pineapple'}"
            ]
          },
          "metadata": {
            "tags": []
          },
          "execution_count": 67
        }
      ]
    },
    {
      "cell_type": "code",
      "metadata": {
        "id": "Gg6NtKqsxfxv",
        "colab_type": "code",
        "colab": {
          "base_uri": "https://localhost:8080/",
          "height": 34
        },
        "outputId": "d867d0c6-998b-4d55-a432-71affa70c639"
      },
      "source": [
        "St1.intersection(St) #returns all elements common in both sets"
      ],
      "execution_count": 69,
      "outputs": [
        {
          "output_type": "execute_result",
          "data": {
            "text/plain": [
              "{'kivi'}"
            ]
          },
          "metadata": {
            "tags": []
          },
          "execution_count": 69
        }
      ]
    },
    {
      "cell_type": "code",
      "metadata": {
        "id": "h_hkr_gvxyBY",
        "colab_type": "code",
        "colab": {
          "base_uri": "https://localhost:8080/",
          "height": 34
        },
        "outputId": "9bb03508-f16b-4285-9485-1a03511a1439"
      },
      "source": [
        "St.difference(St1) # returns all elements from set St by removing duplicate from both"
      ],
      "execution_count": 73,
      "outputs": [
        {
          "output_type": "execute_result",
          "data": {
            "text/plain": [
              "{'orange', 'pineapple'}"
            ]
          },
          "metadata": {
            "tags": []
          },
          "execution_count": 73
        }
      ]
    },
    {
      "cell_type": "code",
      "metadata": {
        "id": "vwQy1Fi_yx9a",
        "colab_type": "code",
        "colab": {
          "base_uri": "https://localhost:8080/",
          "height": 34
        },
        "outputId": "2e6a071d-d97f-4854-8ce3-835ed07f6d12"
      },
      "source": [
        "St.symmetric_difference(St1) #removes common elements and gives rest of the elements"
      ],
      "execution_count": 76,
      "outputs": [
        {
          "output_type": "execute_result",
          "data": {
            "text/plain": [
              "{'apple', 'banana', 'orange', 'pineapple'}"
            ]
          },
          "metadata": {
            "tags": []
          },
          "execution_count": 76
        }
      ]
    },
    {
      "cell_type": "code",
      "metadata": {
        "id": "2khMO4ZLzeAJ",
        "colab_type": "code",
        "colab": {
          "base_uri": "https://localhost:8080/",
          "height": 34
        },
        "outputId": "9822208f-bb77-4d79-f295-63767101b49b"
      },
      "source": [
        "St.isdisjoint(St1) # if no common element then gives true value"
      ],
      "execution_count": 78,
      "outputs": [
        {
          "output_type": "execute_result",
          "data": {
            "text/plain": [
              "False"
            ]
          },
          "metadata": {
            "tags": []
          },
          "execution_count": 78
        }
      ]
    },
    {
      "cell_type": "code",
      "metadata": {
        "id": "r6QQ9TD24W83",
        "colab_type": "code",
        "colab": {}
      },
      "source": [
        "#Tuple"
      ],
      "execution_count": null,
      "outputs": []
    },
    {
      "cell_type": "code",
      "metadata": {
        "id": "__r2L_dO4ZPT",
        "colab_type": "code",
        "colab": {
          "base_uri": "https://localhost:8080/",
          "height": 34
        },
        "outputId": "69385895-7e5b-4634-d54a-7997b92e8a45"
      },
      "source": [
        "Tup=(\"PC\",6,72.16,6)\n",
        "Tup"
      ],
      "execution_count": 80,
      "outputs": [
        {
          "output_type": "execute_result",
          "data": {
            "text/plain": [
              "('PC', 6, 72.16, 6)"
            ]
          },
          "metadata": {
            "tags": []
          },
          "execution_count": 80
        }
      ]
    },
    {
      "cell_type": "code",
      "metadata": {
        "id": "8spp7iWL48g5",
        "colab_type": "code",
        "colab": {
          "base_uri": "https://localhost:8080/",
          "height": 34
        },
        "outputId": "8f1c96a7-8aae-45d1-f8d7-4cb2a1bafc13"
      },
      "source": [
        "Tup.count(6) #returns the number of times the element occus in Tuple"
      ],
      "execution_count": 82,
      "outputs": [
        {
          "output_type": "execute_result",
          "data": {
            "text/plain": [
              "2"
            ]
          },
          "metadata": {
            "tags": []
          },
          "execution_count": 82
        }
      ]
    },
    {
      "cell_type": "code",
      "metadata": {
        "id": "resRU5D65MbW",
        "colab_type": "code",
        "colab": {
          "base_uri": "https://localhost:8080/",
          "height": 34
        },
        "outputId": "525093e9-4341-4cb4-a0a5-d15326ef641f"
      },
      "source": [
        "Tup.index(6) # returns the position of the element in Tuple"
      ],
      "execution_count": 83,
      "outputs": [
        {
          "output_type": "execute_result",
          "data": {
            "text/plain": [
              "1"
            ]
          },
          "metadata": {
            "tags": []
          },
          "execution_count": 83
        }
      ]
    },
    {
      "cell_type": "code",
      "metadata": {
        "id": "G14Clob46AK6",
        "colab_type": "code",
        "colab": {}
      },
      "source": [
        "#Strings"
      ],
      "execution_count": null,
      "outputs": []
    },
    {
      "cell_type": "code",
      "metadata": {
        "id": "OHV7XNi76CO2",
        "colab_type": "code",
        "colab": {
          "base_uri": "https://localhost:8080/",
          "height": 35
        },
        "outputId": "a8d96818-2abe-4d65-cf1d-ef768c198dee"
      },
      "source": [
        "str=\"india\"\n",
        "str.capitalize() #returns the string with first letter in capital"
      ],
      "execution_count": 85,
      "outputs": [
        {
          "output_type": "execute_result",
          "data": {
            "application/vnd.google.colaboratory.intrinsic+json": {
              "type": "string"
            },
            "text/plain": [
              "'India'"
            ]
          },
          "metadata": {
            "tags": []
          },
          "execution_count": 85
        }
      ]
    },
    {
      "cell_type": "code",
      "metadata": {
        "id": "ZR0dOtpO6ggh",
        "colab_type": "code",
        "colab": {
          "base_uri": "https://localhost:8080/",
          "height": 35
        },
        "outputId": "6e41ea55-2b21-45c4-847b-3144d6ac27ad"
      },
      "source": [
        "str=\"MAHARASHTRA\"\n",
        "str.casefold() #returns caseless copy of a string"
      ],
      "execution_count": 91,
      "outputs": [
        {
          "output_type": "execute_result",
          "data": {
            "application/vnd.google.colaboratory.intrinsic+json": {
              "type": "string"
            },
            "text/plain": [
              "'maharashtra'"
            ]
          },
          "metadata": {
            "tags": []
          },
          "execution_count": 91
        }
      ]
    },
    {
      "cell_type": "code",
      "metadata": {
        "id": "HHEBp4xa9YNm",
        "colab_type": "code",
        "colab": {
          "base_uri": "https://localhost:8080/",
          "height": 51
        },
        "outputId": "84f247b5-7da9-41b3-99a0-df6d0cd16c2d"
      },
      "source": [
        "Str=\"Pranali\"\n",
        "print (Str)\n",
        "Str.endswith(\"i\") #returns true if string ends with soecified suffix"
      ],
      "execution_count": 94,
      "outputs": [
        {
          "output_type": "stream",
          "text": [
            "Pranali\n"
          ],
          "name": "stdout"
        },
        {
          "output_type": "execute_result",
          "data": {
            "text/plain": [
              "True"
            ]
          },
          "metadata": {
            "tags": []
          },
          "execution_count": 94
        }
      ]
    },
    {
      "cell_type": "code",
      "metadata": {
        "id": "FW26ULDO-b45",
        "colab_type": "code",
        "colab": {
          "base_uri": "https://localhost:8080/",
          "height": 34
        },
        "outputId": "d0576eaf-6732-451a-c968-a31b568fc522"
      },
      "source": [
        "Str.find(\"a\") #returns the lowest index in string where the substring found"
      ],
      "execution_count": 97,
      "outputs": [
        {
          "output_type": "execute_result",
          "data": {
            "text/plain": [
              "2"
            ]
          },
          "metadata": {
            "tags": []
          },
          "execution_count": 97
        }
      ]
    },
    {
      "cell_type": "code",
      "metadata": {
        "id": "Hsl0Wjia_Vdf",
        "colab_type": "code",
        "colab": {
          "base_uri": "https://localhost:8080/",
          "height": 34
        },
        "outputId": "7443ddef-e657-46fe-cbf2-cc17f91c0d48"
      },
      "source": [
        "Str.isalpha() #returns true if all the characters are alphabetic"
      ],
      "execution_count": 98,
      "outputs": [
        {
          "output_type": "execute_result",
          "data": {
            "text/plain": [
              "True"
            ]
          },
          "metadata": {
            "tags": []
          },
          "execution_count": 98
        }
      ]
    },
    {
      "cell_type": "markdown",
      "metadata": {
        "id": "1SO9BhNkj3ki",
        "colab_type": "text"
      },
      "source": [
        ""
      ]
    }
  ]
}